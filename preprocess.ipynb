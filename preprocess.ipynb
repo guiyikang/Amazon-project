{
 "cells": [
  {
   "cell_type": "code",
   "execution_count": 10,
   "metadata": {
    "collapsed": true
   },
   "outputs": [],
   "source": [
    "import os\n",
    "import numpy as np\n",
    "from PIL import Image"
   ]
  },
  {
   "cell_type": "code",
   "execution_count": 11,
   "metadata": {
    "collapsed": true
   },
   "outputs": [],
   "source": [
    "dir = \"/media/gui/LENOVO/学习/AMAZON/train-jpg/\""
   ]
  },
  {
   "cell_type": "code",
   "execution_count": 12,
   "metadata": {
    "collapsed": true
   },
   "outputs": [],
   "source": [
    "width = 64\n",
    "height = 64\n",
    "l = width*height"
   ]
  },
  {
   "cell_type": "code",
   "execution_count": 13,
   "metadata": {
    "collapsed": true
   },
   "outputs": [],
   "source": [
    "train_jpg_list = os.listdir(dir)"
   ]
  },
  {
   "cell_type": "code",
   "execution_count": 14,
   "metadata": {
    "collapsed": true
   },
   "outputs": [],
   "source": [
    "input_count = len(train_jpg_list)\n",
    "cut_num = 1000\n",
    "remain = input_count % cut_num\n",
    "split = input_count // cut_num"
   ]
  },
  {
   "cell_type": "code",
   "execution_count": 15,
   "metadata": {
    "collapsed": true
   },
   "outputs": [],
   "source": [
    "del train_jpg_list"
   ]
  },
  {
   "cell_type": "code",
   "execution_count": 16,
   "metadata": {
    "collapsed": true
   },
   "outputs": [],
   "source": [
    "def ImageToArray(file,width,height):\n",
    "    '''3 color channels, 1*length'''\n",
    "    img_raw = Image.open(file)\n",
    "    img = img_raw.resize((width, height), Image.ANTIALIAS)\n",
    "    width,height = img.size\n",
    "    data = img.convert(\"RGB\").getdata()\n",
    "    data = np.array(data, dtype='int')\n",
    "    result = np.reshape(data,(1,width*height*3))\n",
    "    return result"
   ]
  },
  {
   "cell_type": "code",
   "execution_count": 19,
   "metadata": {},
   "outputs": [
    {
     "name": "stdout",
     "output_type": "stream",
     "text": [
      "Have completed 0\n",
      "Have completed 1000\n",
      "Have completed 2000\n",
      "Have completed 3000\n",
      "Have completed 4000\n",
      "Have completed 5000\n",
      "Have completed 6000\n",
      "Have completed 7000\n",
      "Have completed 8000\n",
      "Have completed 9000\n",
      "Have completed 10000\n",
      "Have completed 11000\n",
      "Have completed 12000\n",
      "Have completed 13000\n",
      "Have completed 14000\n",
      "Have completed 15000\n",
      "Have completed 16000\n",
      "Have completed 17000\n",
      "Have completed 18000\n",
      "Have completed 19000\n",
      "Have completed 20000\n",
      "Have completed 21000\n",
      "Have completed 22000\n",
      "Have completed 23000\n",
      "Have completed 24000\n",
      "Have completed 25000\n",
      "Have completed 26000\n",
      "Have completed 27000\n",
      "Have completed 28000\n",
      "Have completed 29000\n",
      "Have completed 30000\n",
      "Have completed 31000\n",
      "Have completed 32000\n",
      "Have completed 33000\n",
      "Have completed 34000\n",
      "Have completed 35000\n",
      "Have completed 36000\n",
      "Have completed 37000\n",
      "Have completed 38000\n",
      "Have completed 39000\n",
      "Have completed 40000\n",
      "Completed!\n"
     ]
    }
   ],
   "source": [
    "for j in range(split):\n",
    "    if j+1 == split:\n",
    "        count = cut_num + remain\n",
    "    else: count = cut_num\n",
    "    input_images = np.array([[0]*l*3 for i in range(count)])\n",
    "    for i in range(j*cut_num,j*cut_num+count):\n",
    "        file = dir + \"train_%s.jpg\" % i\n",
    "        data = ImageToArray(file,width,height)\n",
    "        if i % 1000 == 0: print(\"Have completed \" + str(i))\n",
    "        input_images[i-j*cut_num] = data\n",
    "    np.savetxt( \"train-jpg-all-\"+str(j),input_images,fmt=\"%d\")\n",
    "print ('Completed!')"
   ]
  },
  {
   "cell_type": "code",
   "execution_count": null,
   "metadata": {
    "collapsed": true
   },
   "outputs": [],
   "source": []
  }
 ],
 "metadata": {
  "kernelspec": {
   "display_name": "Python 3",
   "language": "python",
   "name": "python3"
  },
  "language_info": {
   "codemirror_mode": {
    "name": "ipython",
    "version": 3
   },
   "file_extension": ".py",
   "mimetype": "text/x-python",
   "name": "python",
   "nbconvert_exporter": "python",
   "pygments_lexer": "ipython3",
   "version": "3.6.2"
  }
 },
 "nbformat": 4,
 "nbformat_minor": 2
}
